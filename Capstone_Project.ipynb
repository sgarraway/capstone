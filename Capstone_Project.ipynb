{
    "cells": [
        {
            "metadata": {
                "collapsed": true
            },
            "cell_type": "markdown",
            "source": "<h1>Applied Data Science Capstone Project</h1>\n<h3>The Battle of Neighborhoods (Week 1)</h3>\n<b>Shon Garraway</b>\n\n"
        },
        {
            "metadata": {},
            "cell_type": "markdown",
            "source": "<h2>Introduction/Business Problem</h2>"
        },
        {
            "metadata": {},
            "cell_type": "markdown",
            "source": "<p>Entrepreneurs and investors have many complex factors to consider with a new venture. The success or failure of a new food related establishment may be strongly influenced by factors that are out of the control of the business operators or backers, such as the population demographics or the trends of an area. Fortunatly, today's entrepreneurs who are starting new ventures have more data and advanced analysis tools at their disposal than ever before.  When properly understood, assembled, preprocessed and transformed into visual representations, streams of publicly and privately available data can provide useful insights for important decisions. Machine learning also provides new ways to examine this data to make predictions and gain unseen insights. </p><p> The goal of my project is to gather available census and food venue data from sources through automated means, organize and preprocess this data to provide visual analytics for users, and finally training a machine learning polynoimal regression algorithm to make predections regarding choices of venue for a given location. For the purposes of this project, I will only be focusing on data for the Greater Victoria regiona of British Columbia, Canada</p>"
        },
        {
            "metadata": {},
            "cell_type": "markdown",
            "source": "<h2>Data<h2>"
        },
        {
            "metadata": {},
            "cell_type": "markdown",
            "source": "To construct a data set to analyze, I'll be taking the list of municipal subdivisions within the CRD from the wikipedia page found here:\n\nhttps://en.wikipedia.org/wiki/Capital_Regional_District\n\nFor the scope of the project I will only be focusing on Cities, Towns and District Municipalities withing the Victoria CRD.  The outlying Regional Electoral areas are less populated and more rural and would likely skew our analysis.\n\nFor demographic data, I will be using the 2016 Census data availailable from Statistics Canada through both download and Web API.\n\nhttps://www12.statcan.gc.ca/wds-sdw/cpr2016-eng.cfm\n\nWhile the available census data is vast and detailed, I am limiting the scope of this project to focusing on the average age and median household income in each municipality.  While the opportunity to analyze this available data to much greater detail is tantalyzing, the dataset sizes would require significantly more computing resources (and thus, expenses) to accomplsh.\n\nFrom there we will gather a list of food venues and their associated 'likes' recored by Foursquare users to gauge popularity of venues in each municipality using the Foursquare API. \n\nhttps://foursquare.com/developers/apps\n\n"
        }
    ],
    "metadata": {
        "kernelspec": {
            "name": "python3",
            "display_name": "Python 3.7",
            "language": "python"
        },
        "language_info": {
            "name": "python",
            "version": "3.7.9",
            "mimetype": "text/x-python",
            "codemirror_mode": {
                "name": "ipython",
                "version": 3
            },
            "pygments_lexer": "ipython3",
            "nbconvert_exporter": "python",
            "file_extension": ".py"
        }
    },
    "nbformat": 4,
    "nbformat_minor": 1
}