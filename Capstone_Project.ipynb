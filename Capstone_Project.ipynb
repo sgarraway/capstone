{
    "cells": [
        {
            "metadata": {
                "collapsed": true
            },
            "cell_type": "markdown",
            "source": "<h1>Applied Data Science Capstone Project</h1>\n<h3>The Battle of Neighborhoods (Week 1)</h3>\n<b>Shon Garraway</b>\n\n"
        },
        {
            "metadata": {},
            "cell_type": "markdown",
            "source": "<h2>Introduction/Business Problem</h2>"
        },
        {
            "metadata": {},
            "cell_type": "markdown",
            "source": "<p>Entrepreneurs and investors have many factors to consider with a new venture, but data analytics can be an effective tool for important insights. The success or failure of a new food related establishment may be strongly influenced by factors that are out of the control of the business owner, such as the population density and demographics of an area. Fortunatly entrepreneurs staring new ventures today have access to cutting edge tools, data science techniques and an abundance of data regarding their potential market.  When properly understood, assembled, preprocessed and transformed into visual representations, potential venue owners can assess the data quickly to make decisions. With enough data it should be possible to apply machine learning techniques for useful for analyzing th potential success of a venue in a particular area or what type of venue might be.</p><p> The goal of my project is to gather available census and food venue data from sources through automated means, organize and preprocess this data to provide visual analytics for users, and finally training a machine learning polynoimal regression algorithm to make predections regarding choices of venue for a given location. For the purposes of this project, I will only be focusing on data for the Greater Victoria regiona of British Columbia, Canada</p>"
        }
    ],
    "metadata": {
        "kernelspec": {
            "name": "python3",
            "display_name": "Python 3.7",
            "language": "python"
        },
        "language_info": {
            "name": "python",
            "version": "3.7.9",
            "mimetype": "text/x-python",
            "codemirror_mode": {
                "name": "ipython",
                "version": 3
            },
            "pygments_lexer": "ipython3",
            "nbconvert_exporter": "python",
            "file_extension": ".py"
        }
    },
    "nbformat": 4,
    "nbformat_minor": 1
}