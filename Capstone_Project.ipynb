{
    "cells": [
        {
            "metadata": {
                "collapsed": true
            },
            "cell_type": "markdown",
            "source": "<h1>Applied Data Science Capstone Project</h1>\n<h3>The Battle of Neighborhoods (Week 1)</h3>\n<b>Shon Garraway</b>\n\n"
        },
        {
            "metadata": {},
            "cell_type": "markdown",
            "source": "<h2>Introduction/Business Problem</h2>"
        },
        {
            "metadata": {},
            "cell_type": "markdown",
            "source": "<p>Entrepreneurs and investors have many complex factors to consider with a new venture. The success or failure of a new food related establishment may be strongly influenced by factors that are out of the control of the business operators or backers, such as the population demographics or the trends of an area. Fortunatly, today's entrepreneurs who are starting new ventures have more data and advanced analysis tools at their disposal than ever before.  When properly understood, assembled, preprocessed and transformed into visual representations, streams of publicly and privately available data can provide useful insights for important decisions. Machine learning also provides new ways to examine this data to make predictions and gain unseen insights. </p><p> The goal of my project is to gather available census and food venue data from sources through automated means, organize and preprocess this data to provide visual analytics for users, and finally training a machine learning polynoimal regression algorithm to make predections regarding choices of venue for a given location. For the purposes of this project, I will be focusing on data for the Greater Victoria region of British Columbia, Canada</p>"
        },
        {
            "metadata": {},
            "cell_type": "markdown",
            "source": "<h2>Data<h2>"
        },
        {
            "metadata": {},
            "cell_type": "markdown",
            "source": "The greater Victoria Regional District, or Capitol Regional District, consists of the city of Victoria and several surrounding municipalties.  To construct a data set to analyze, I'll be taking the list of municipal subdivisions within the CRD from the wikipedia page found here:\n\nhttps://en.wikipedia.org/wiki/Capital_Regional_District\n\n\n<table>\n<thead><tr>\n<th style=\"width: 25%; text-align: center;\" class=\"headerSort\" tabindex=\"0\" role=\"columnheader button\" title=\"Sort ascending\">Division<sup id=\"cite_ref-7\" class=\"reference\"><a href=\"#cite_note-7\">[7]</a></sup>\n</th>\n<th style=\"width: 30%; text-align: center;\" class=\"headerSort\" tabindex=\"0\" role=\"columnheader button\" title=\"Sort ascending\"><a href=\"/wiki/Census_Subdivision\" class=\"mw-redirect\" title=\"Census Subdivision\">Census Subdivision</a> type<sup id=\"cite_ref-8\" class=\"reference\"><a href=\"#cite_note-8\">[8]</a></sup>\n</th>\n<th style=\"text-align: right;\" class=\"headerSort\" tabindex=\"0\" role=\"columnheader button\" title=\"Sort ascending\">Population (2016)<sup id=\"cite_ref-9\" class=\"reference\"><a href=\"#cite_note-9\">[9]</a></sup>\n</th>\n<th style=\"text-align: right;\" class=\"headerSort\" tabindex=\"0\" role=\"columnheader button\" title=\"Sort ascending\">Population (2011)\n</th>\n<th style=\"text-align: right;\" class=\"headerSort\" tabindex=\"0\" role=\"columnheader button\" title=\"Sort ascending\">Change (2011-2016)\n</th></tr></thead><tbody>\n<tr>\n<td style=\"text-align: center;\"><a href=\"/wiki/Saanich,_British_Columbia\" title=\"Saanich, British Columbia\">Saanich</a>\n</td>\n<td style=\"text-align: center;\">District municipality\n</td>\n<td>114,148\n</td>\n<td>109,752\n</td>\n<td>4.0%\n</td></tr>\n<tr>\n<td style=\"text-align: center;\"><a href=\"/wiki/Victoria,_British_Columbia\" title=\"Victoria, British Columbia\">Victoria</a>\n</td>\n<td style=\"text-align: center;\">City\n</td>\n<td>85,792\n</td>\n<td>80,017\n</td>\n<td>7.2%\n</td></tr>\n<tr>\n<td style=\"text-align: center;\"><a href=\"/wiki/Langford,_British_Columbia\" title=\"Langford, British Columbia\">Langford</a>\n</td>\n<td style=\"text-align: center;\">City\n</td>\n<td>35,342\n</td>\n<td>29,228\n</td>\n<td>20.9%\n</td></tr>\n<tr>\n<td style=\"text-align: center;\"><a href=\"/wiki/Oak_Bay,_British_Columbia\" title=\"Oak Bay, British Columbia\">Oak Bay</a>\n</td>\n<td style=\"text-align: center;\">District municipality\n</td>\n<td>18,094\n</td>\n<td>18,015\n</td>\n<td>0.4%\n</td></tr>\n<tr>\n<td style=\"text-align: center;\"><a href=\"/wiki/Esquimalt\" title=\"Esquimalt\">Esquimalt</a>\n</td>\n<td style=\"text-align: center;\">District municipality\n</td>\n<td>17,655\n</td>\n<td>16,209\n</td>\n<td>8.9%\n</td></tr>\n<tr>\n<td style=\"text-align: center;\"><a href=\"/wiki/Colwood,_British_Columbia\" title=\"Colwood, British Columbia\">Colwood</a>\n</td>\n<td style=\"text-align: center;\">City\n</td>\n<td>16,859\n</td>\n<td>16,093\n</td>\n<td>4.8%\n</td></tr>\n<tr>\n<td style=\"text-align: center;\"><a href=\"/wiki/Central_Saanich\" title=\"Central Saanich\">Central Saanich</a>\n</td>\n<td style=\"text-align: center;\">District municipality\n</td>\n<td>16,814\n</td>\n<td>15,936\n</td>\n<td>5.5%\n</td></tr>\n<tr>\n<td style=\"text-align: center;\"><a href=\"/wiki/Sooke\" title=\"Sooke\">Sooke</a>\n</td>\n<td style=\"text-align: center;\">District municipality\n</td>\n<td>13,001\n</td>\n<td>11,435\n</td>\n<td>13.7%\n</td></tr>\n<tr>\n<td style=\"text-align: center;\"><a href=\"/wiki/Sidney,_British_Columbia\" title=\"Sidney, British Columbia\">Sidney</a>\n</td>\n<td style=\"text-align: center;\">Town\n</td>\n<td>11,672\n</td>\n<td>11,178\n</td>\n<td>4.4%\n</td></tr>\n<tr>\n<td style=\"text-align: center;\"><a href=\"/wiki/North_Saanich\" title=\"North Saanich\">North Saanich</a>\n</td>\n<td style=\"text-align: center;\">District municipality\n</td>\n<td>11,249\n</td>\n<td>11,089\n</td>\n<td>1.4%\n</td></tr>\n<tr>\n<td style=\"text-align: center;\"><a href=\"/wiki/View_Royal\" title=\"View Royal\">View Royal</a>\n</td>\n<td style=\"text-align: center;\">Town\n</td>\n<td>10,408\n</td>\n<td>9,381\n</td>\n<td>10.9%\n</td></tr>\n<tr>\n<td style=\"text-align: center;\"><a href=\"/wiki/Metchosin\" title=\"Metchosin\">Metchosin</a>\n</td>\n<td style=\"text-align: center;\">District municipality\n</td>\n<td>4,708\n</td>\n<td>4,803\n</td>\n<td>-2.0%\n</td></tr>\n<tr>\n<td style=\"text-align: center;\"><a href=\"/wiki/Highlands,_British_Columbia\" title=\"Highlands, British Columbia\">Highlands</a>\n</td>\n<td style=\"text-align: center;\">District municipality\n</td>\n<td>2,225\n</td>\n<td>2,120\n</td>\n<td>5.0%\n</td></tr>\n\n<tr>\n<td style=\"text-align: center;\"><a href=\"/wiki/Salt_Spring_Island\" title=\"Salt Spring Island\">Salt Spring Island</a>\n</td>\n<td style=\"text-align: center;\">Regional district electoral area\n</td>\n<td>10,557\n</td>\n<td>10,234\n</td>\n<td>3.2%\n</td></tr>\n<tr>\n<td style=\"text-align: center;\">Juan de Fuca\n</td>\n<td style=\"text-align: center;\">Regional district electoral area\n</td>\n<td>4,860\n</td>\n<td>4,466\n</td>\n<td>8.8%\n</td></tr>\n<tr>\n<td style=\"text-align: center;\"><a href=\"/wiki/Southern_Gulf_Islands\" class=\"mw-redirect\" title=\"Southern Gulf Islands\">Southern Gulf Islands</a>\n</td>\n<td style=\"text-align: center;\">Regional district electoral area\n</td>\n<td>4,732\n</td>\n<td>4,868\n</td>\n<td>-2.8%\n</td></tr>\n</tbody><tfoot><tr class=\"sortbottom\">\n<th colspan=\"2\">Total Capital Regional District<sup id=\"cite_ref-Statistics_Canada_6-1\" class=\"reference\"><a href=\"#cite_note-Statistics_Canada-6\">[6]</a></sup>\n</th>\n<th style=\"text-align: right;\">383,360\n</th>\n<th style=\"text-align: right;\">359,991\n</th>\n<th style=\"text-align: right;\">6.5%\n</th></tr></tfoot></table>\n\nFor the scope of the project I will only be focusing on Cities, Towns and District Municipalities withing the Victoria CRD.  The outlying Regional Electoral areas are less populated and more rural and would likely skew our analysis.\n\nFor demographic data, I will be using the 2016 Census data availailable from Statistics Canada through both download and Web API.\n\nhttps://www12.statcan.gc.ca/wds-sdw/cpr2016-eng.cfm\n\nWhile the available census data is vast and detailed, I am limiting the scope of this project to focusing on the average age and median household income in each municipality.  While the opportunity to analyze this available data to much greater detail is tantalyzing, the dataset sizes would require significantly more computing resources (and thus, expenses) to accomplsh.\n\nFor data regarding existing venues within the CRD such as category and popularity, I will be using the API available from Foursquare to query information for each municipality in our data set.\n\nhttps://foursquare.com/developers/apps\n\n"
        }
    ],
    "metadata": {
        "kernelspec": {
            "name": "python3",
            "display_name": "Python 3.7",
            "language": "python"
        },
        "language_info": {
            "name": "python",
            "version": "3.7.9",
            "mimetype": "text/x-python",
            "codemirror_mode": {
                "name": "ipython",
                "version": 3
            },
            "pygments_lexer": "ipython3",
            "nbconvert_exporter": "python",
            "file_extension": ".py"
        }
    },
    "nbformat": 4,
    "nbformat_minor": 1
}